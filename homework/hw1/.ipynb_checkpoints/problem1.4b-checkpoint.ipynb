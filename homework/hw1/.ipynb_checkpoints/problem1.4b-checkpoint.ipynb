{
 "cells": [
  {
   "cell_type": "markdown",
   "id": "ac9f6d50-ce6a-4a5b-a8fd-526f88853aac",
   "metadata": {},
   "source": [
    "# Problem 2"
   ]
  },
  {
   "cell_type": "code",
   "execution_count": 1,
   "id": "74e43a8c-249e-47c7-8585-8888b9553887",
   "metadata": {},
   "outputs": [],
   "source": [
    "import numpy as np\n",
    "import matplotlib.pyplot as plt\n",
    "import random as rd"
   ]
  },
  {
   "cell_type": "markdown",
   "id": "daf9b832-b67b-4dfe-8cbf-9c0b5e217513",
   "metadata": {},
   "source": [
    "## Implement PLA"
   ]
  },
  {
   "cell_type": "code",
   "execution_count": 2,
   "id": "6872af9f-5feb-4696-9881-c21215558729",
   "metadata": {},
   "outputs": [],
   "source": [
    "def select_misclassify(res, Dy):\n",
    "\n",
    "    rd.seed(10)\n",
    "    # if(np.size(Dy,0) == 1000):\n",
    "    #     print(res)\n",
    "    #     print(Dy)\n",
    "    mis = []\n",
    "    row = np.size(Dy, 0)\n",
    "    for i in range(row):\n",
    "        if res[i] != Dy[i]:\n",
    "            mis.append(i)\n",
    "    \n",
    "    if len(mis) == 0:\n",
    "        return -1\n",
    "\n",
    "    return rd.choice(mis)\n",
    "'''\n",
    "This function will basically implement the PLA\n",
    "'''\n",
    "def PLA(Dx, Dy, w):\n",
    "\n",
    "    mis = 0\n",
    "    count = 0\n",
    "    while(True):\n",
    "        res = np.matmul(w, np.transpose(Dx))\n",
    "        res = np.sign(res)\n",
    "        mis = select_misclassify(res, Dy)\n",
    "        if mis == -1: break\n",
    "        w = w + Dy[mis] * Dx[mis]\n",
    "        count += 1\n",
    "    print(\"It is being updated for {} times\".format(count))\n",
    "    return w"
   ]
  },
  {
   "cell_type": "markdown",
   "id": "40d99a00-5634-4e9c-a92a-928dd74b21a0",
   "metadata": {},
   "source": [
    "## Generate target function and random data set from problem 1 and run PLA"
   ]
  },
  {
   "cell_type": "code",
   "execution_count": 3,
   "id": "db3f32ff-39e5-44ed-8767-3cf6851916ec",
   "metadata": {
    "tags": []
   },
   "outputs": [
    {
     "name": "stdout",
     "output_type": "stream",
     "text": [
      "It is being updated for 10 times\n"
     ]
    },
    {
     "data": {
      "image/png": "[encoded data removed]",
      "text/plain": [
       "<Figure size 432x288 with 1 Axes>"
      ]
     },
     "metadata": {
      "needs_background": "light"
     },
     "output_type": "display_data"
    }
   ],
   "source": [
    "plt.axis([-100, 100, -100, 100])\n",
    "plt.xlabel(\"x1\")\n",
    "plt.ylabel(\"x2\")\n",
    "\n",
    "x1 = np.arange(-100, 100)\n",
    "x2 = np.array(-x1+2)\n",
    "plt.plot(x1,x2,\"m\")\n",
    "plt.annotate(\"target function f\", xy=(50, -40), xytext=(50, 0), arrowprops=dict(facecolor=\"m\"))\n",
    "plt.grid(True)\n",
    "\n",
    "'''\n",
    "generate the random data set\n",
    "and plot the data set based on\n",
    "its corresponding y\n",
    "'''\n",
    "np.random.seed(14)\n",
    "Dx = np.random.randint(-100, 101, size=(20,2))\n",
    "Dy = list(map(lambda x: x[0] + x[1] - 2, Dx))\n",
    "Dy = np.sign(Dy)\n",
    "\n",
    "'''\n",
    "positive will store the data points which has +1\n",
    "negative will store the data points which has -1\n",
    "'''\n",
    "positive = []\n",
    "negative = []\n",
    "for i in range(np.size(Dy,0)):\n",
    "    if Dy[i] == 1:\n",
    "        positive.append(list(Dx[i]))\n",
    "    else:\n",
    "        negative.append(list(Dx[i]))\n",
    "\n",
    "plt.plot(np.transpose(positive)[0], np.transpose(positive)[1], 'bo')\n",
    "plt.plot(np.transpose(negative)[0], np.transpose(negative)[1], 'rx')\n",
    "\n",
    "# initialize weight to zero vector\n",
    "w = np.zeros(3)\n",
    "\n",
    "# insert x0\n",
    "Dx = np.insert(Dx, 0, 20*[1], axis=1)\n",
    "\n",
    "final_w = PLA(Dx, Dy, w)\n",
    "\n",
    "new_x2 = np.array((-final_w[1]/final_w[2])*x1+(-final_w[0]/final_w[2]))\n",
    "plt.plot(x1, new_x2,\"c\")\n",
    "plt.annotate(\"final hypothesis g\", xy=(40, -54), xytext=(-25, -50), arrowprops=dict(facecolor=\"c\"))\n",
    "plt.annotate(\"-1\", xy=(90, 90))\n",
    "plt.annotate(\"-1\", xy=(-90, -90))\n",
    "plt.title(\"Problem a and b\")\n",
    "plt.show()"
   ]
  },
  {
   "cell_type": "code",
   "execution_count": null,
   "id": "c0af7a2d-e312-4cc2-b7f9-3177f7414471",
   "metadata": {},
   "outputs": [],
   "source": []
  }
 ],
 "metadata": {
  "kernelspec": {
   "display_name": "Python 3",
   "language": "python",
   "name": "python3"
  },
  "language_info": {
   "codemirror_mode": {
    "name": "ipython",
    "version": 3
   },
   "file_extension": ".py",
   "mimetype": "text/x-python",
   "name": "python",
   "nbconvert_exporter": "python",
   "pygments_lexer": "ipython3",
   "version": "3.8.8"
  }
 },
 "nbformat": 4,
 "nbformat_minor": 5
}
