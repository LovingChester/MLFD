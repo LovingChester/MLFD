{
 "cells": [
  {
   "cell_type": "markdown",
   "id": "1dd85dad-da9d-4a5c-be80-0fec5b659788",
   "metadata": {},
   "source": [
    "# Problem d"
   ]
  },
  {
   "cell_type": "code",
   "execution_count": 1,
   "id": "53cb51bf-c8f2-43cc-8efd-3dafb4c8d5dd",
   "metadata": {},
   "outputs": [],
   "source": [
    "import numpy as np\n",
    "import matplotlib.pyplot as plt\n",
    "import random as rd"
   ]
  },
  {
   "cell_type": "markdown",
   "id": "1c486000-7f1e-4260-af98-a1e3f9ea98ab",
   "metadata": {},
   "source": [
    "## Implement PLA"
   ]
  },
  {
   "cell_type": "code",
   "execution_count": 2,
   "id": "13a9f40f-cfd9-4e71-91af-073fb53bf6ec",
   "metadata": {},
   "outputs": [],
   "source": [
    "def select_misclassify(res, Dy):\n",
    "\n",
    "    rd.seed(10)\n",
    "    # if(np.size(Dy,0) == 1000):\n",
    "    #     print(res)\n",
    "    #     print(Dy)\n",
    "    mis = []\n",
    "    row = np.size(Dy, 0)\n",
    "    for i in range(row):\n",
    "        if res[i] != Dy[i]:\n",
    "            mis.append(i)\n",
    "    \n",
    "    if len(mis) == 0:\n",
    "        return -1\n",
    "\n",
    "    return rd.choice(mis)\n",
    "'''\n",
    "This function will basically implement the PLA\n",
    "'''\n",
    "def PLA(Dx, Dy, w):\n",
    "\n",
    "    mis = 0\n",
    "    count = 0\n",
    "    while(True):\n",
    "        res = np.matmul(w, np.transpose(Dx))\n",
    "        res = np.sign(res)\n",
    "        mis = select_misclassify(res, Dy)\n",
    "        if mis == -1: break\n",
    "        w = w + Dy[mis] * Dx[mis]\n",
    "        count += 1\n",
    "    print(\"It is being updated for {} times\".format(count))\n",
    "    return w"
   ]
  },
  {
   "cell_type": "markdown",
   "id": "c34303f7-7060-467b-86a1-ee5ae51e90b5",
   "metadata": {},
   "source": [
    "## Randomly generate data and run PLA"
   ]
  },
  {
   "cell_type": "code",
   "execution_count": 3,
   "id": "c63a90fa-997b-487b-8289-278ea9f73af0",
   "metadata": {},
   "outputs": [
    {
     "name": "stdout",
     "output_type": "stream",
     "text": [
      "It is being updated for 10 times\n"
     ]
    },
    {
     "data": {
      "image/png": "[encoded data removed]",
      "text/plain": [
       "<Figure size 432x288 with 1 Axes>"
      ]
     },
     "metadata": {
      "needs_background": "light"
     },
     "output_type": "display_data"
    }
   ],
   "source": [
    "plt.axis([-100, 100, -100, 100])\n",
    "plt.xlabel(\"x1\")\n",
    "plt.ylabel(\"x2\")\n",
    "\n",
    "x1 = np.arange(-200, 200)\n",
    "x2 = np.array(-x1+2)\n",
    "plt.plot(x1, x2, \"m\")\n",
    "plt.annotate(\"target function f\", xy=(-25, 35),\n",
    "             xytext=(-25, 65), arrowprops=dict(facecolor=\"m\"))\n",
    "plt.grid(True)\n",
    "\n",
    "'''\n",
    "generate the random data set\n",
    "and plot the data set based on\n",
    "its corresponding y\n",
    "'''\n",
    "np.random.seed(100)  # reset the random seed\n",
    "Dx = np.random.randint(-100, 101, size=(100, 2))\n",
    "Dy = list(map(lambda x: x[0] + x[1] - 2, Dx))\n",
    "Dy = np.sign(Dy)\n",
    "\n",
    "'''\n",
    "positive will store the data points which has +1\n",
    "negative will store the data points which has -1\n",
    "'''\n",
    "positive = []\n",
    "negative = []\n",
    "for i in range(np.size(Dy, 0)):\n",
    "    if Dy[i] == 1:\n",
    "        positive.append(list(Dx[i]))\n",
    "    else:\n",
    "        negative.append(list(Dx[i]))\n",
    "# print(positive)\n",
    "plt.plot(np.transpose(positive)[0], np.transpose(positive)[1], 'bo')\n",
    "plt.plot(np.transpose(negative)[0], np.transpose(negative)[1], 'rx')\n",
    "\n",
    "# initialize weight to zero vector\n",
    "w = np.zeros(3)\n",
    "# print(\"w\", w)\n",
    "\n",
    "# insert x0\n",
    "Dx = np.insert(Dx, 0, 100*[1], axis=1)\n",
    "#print(np.matmul(w, np.transpose(Dx)))\n",
    "\n",
    "# print(\"Dx\", Dx)\n",
    "# print(\"Dy\", Dy)\n",
    "\n",
    "'''\n",
    "Compute the weight of the final hypothesis\n",
    "'''\n",
    "final_w = PLA(Dx, Dy, w)\n",
    "# print(final_w)\n",
    "test = np.matmul(final_w, np.transpose(Dx))\n",
    "# print(np.sign(test))\n",
    "# print(np.sign(test)-Dy)\n",
    "'''\n",
    "Plot the final hypothesis g function\n",
    "'''\n",
    "new_x2 = np.array((-final_w[1]/final_w[2])*x1+(-final_w[0]/final_w[2]))\n",
    "plt.plot(x1, new_x2, \"c\")\n",
    "plt.annotate(\"final hypothesis g\", xy=(-25, 18),\n",
    "             xytext=(-96, 14), arrowprops=dict(facecolor=\"c\"))\n",
    "plt.annotate(\"+1\", xy=(90, 90))\n",
    "plt.annotate(\"-1\", xy=(-90, -90))\n",
    "plt.title(\"problem d\")\n",
    "plt.show()"
   ]
  },
  {
   "cell_type": "code",
   "execution_count": null,
   "id": "50c17b27-dd3b-4c11-afc9-b03836348d1b",
   "metadata": {},
   "outputs": [],
   "source": []
  }
 ],
 "metadata": {
  "kernelspec": {
   "display_name": "Python 3",
   "language": "python",
   "name": "python3"
  },
  "language_info": {
   "codemirror_mode": {
    "name": "ipython",
    "version": 3
   },
   "file_extension": ".py",
   "mimetype": "text/x-python",
   "name": "python",
   "nbconvert_exporter": "python",
   "pygments_lexer": "ipython3",
   "version": "3.8.8"
  }
 },
 "nbformat": 4,
 "nbformat_minor": 5
}
